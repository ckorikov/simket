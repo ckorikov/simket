{
 "cells": [
  {
   "cell_type": "markdown",
   "metadata": {},
   "source": [
    "See the following links:\n",
    "https://arxiv.org/pdf/1606.09225.pdf\n",
    "https://github.com/Qiskit/qiskit-tutorial/blob/master/qiskit/basics/getting_started_with_qiskit_terra.ipynb"
   ]
  },
  {
   "cell_type": "code",
   "execution_count": 6,
   "metadata": {},
   "outputs": [],
   "source": [
    "%config IPCompleter.greedy=True\n",
    "%matplotlib inline"
   ]
  },
  {
   "cell_type": "code",
   "execution_count": 2,
   "metadata": {},
   "outputs": [],
   "source": [
    "import sys\n",
    "myhdl_path = \"/work/myhdl\"\n",
    "sys.path.insert(0, myhdl_path)"
   ]
  },
  {
   "cell_type": "code",
   "execution_count": 7,
   "metadata": {},
   "outputs": [],
   "source": [
    "import random\n",
    "from myhdl import block, instance, Signal, intbv, delay, always_comb, Signal\n",
    "from qutip import *"
   ]
  },
  {
   "cell_type": "code",
   "execution_count": 8,
   "metadata": {},
   "outputs": [],
   "source": [
    "@block\n",
    "def mux(z, a, b, sel):\n",
    "\n",
    "    \"\"\" Multiplexer.\n",
    "\n",
    "    z -- mux output\n",
    "    a, b -- data inputs\n",
    "    sel -- control input: select a if asserted, otherwise b\n",
    "\n",
    "    \"\"\"\n",
    "    \n",
    "    def quant():\n",
    "        qc1 = QubitCircuit(N)\n",
    "        qc1.add_gate(\"CNOT\", 0, 1)\n",
    "        qc1.add_gate(\"CNOT\", 1, 0)\n",
    "        qc1.add_gate(\"CNOT\", 0, 1)\n",
    "    \n",
    "\n",
    "    @always_comb\n",
    "    def comb():\n",
    "        if sel == 1:\n",
    "            z.next = a\n",
    "        else:\n",
    "            z.next = b\n",
    "\n",
    "    return comb"
   ]
  },
  {
   "cell_type": "code",
   "execution_count": 12,
   "metadata": {},
   "outputs": [
    {
     "name": "stdout",
     "output_type": "stream",
     "text": [
      "z a b sel\n",
      "5 4 5 0\n",
      "3 7 3 0\n",
      "2 2 1 1\n",
      "7 7 3 1\n",
      "3 1 3 0\n",
      "3 3 6 1\n",
      "6 2 6 0\n",
      "1 1 2 1\n",
      "2 2 2 0\n",
      "3 0 3 0\n",
      "2 2 2 1\n",
      "3 5 3 0\n"
     ]
    },
    {
     "name": "stderr",
     "output_type": "stream",
     "text": [
      "<class 'myhdl.StopSimulation'>: No more events\n"
     ]
    }
   ],
   "source": [
    "random.seed(5)\n",
    "randrange = random.randrange\n",
    "\n",
    "@block\n",
    "def test_mux():\n",
    "\n",
    "    z, a, b, sel = [Signal(intbv(0)) for i in range(4)]\n",
    "\n",
    "    mux_1 = mux(z, a, b, sel)\n",
    "\n",
    "    @instance\n",
    "    def stimulus():\n",
    "        print(\"z a b sel\")\n",
    "        for i in range(12):\n",
    "            a.next, b.next, sel.next = randrange(8), randrange(8), randrange(2)\n",
    "            yield delay(10)\n",
    "            print(\"%s %s %s %s\" % (z, a, b, sel))\n",
    "\n",
    "    return mux_1, stimulus\n",
    "\n",
    "tb = test_mux()\n",
    "tb.run_sim()"
   ]
  },
  {
   "cell_type": "code",
   "execution_count": 10,
   "metadata": {},
   "outputs": [
    {
     "data": {
      "text/html": [
       "<table><tr><th>Software</th><th>Version</th></tr><tr><td>QuTiP</td><td>4.3.1</td></tr><tr><td>Numpy</td><td>1.15.4</td></tr><tr><td>SciPy</td><td>1.1.0</td></tr><tr><td>matplotlib</td><td>3.0.2</td></tr><tr><td>Cython</td><td>0.29</td></tr><tr><td>Number of CPUs</td><td>2</td></tr><tr><td>BLAS Info</td><td>OPENBLAS</td></tr><tr><td>IPython</td><td>7.1.1</td></tr><tr><td>Python</td><td>3.7.0 (default, Oct 16 2018, 07:10:55) \n",
       "[GCC 6.3.0 20170516]</td></tr><tr><td>OS</td><td>posix [linux]</td></tr><tr><td colspan='2'>Sun Nov 18 20:54:20 2018 UTC</td></tr></table>"
      ],
      "text/plain": [
       "<IPython.core.display.HTML object>"
      ]
     },
     "execution_count": 10,
     "metadata": {},
     "output_type": "execute_result"
    }
   ],
   "source": [
    "from qutip.ipynbtools import version_table\n",
    "version_table()"
   ]
  },
  {
   "cell_type": "code",
   "execution_count": null,
   "metadata": {},
   "outputs": [],
   "source": []
  }
 ],
 "metadata": {
  "kernelspec": {
   "display_name": "Python 3",
   "language": "python",
   "name": "python3"
  },
  "language_info": {
   "codemirror_mode": {
    "name": "ipython",
    "version": 3
   },
   "file_extension": ".py",
   "mimetype": "text/x-python",
   "name": "python",
   "nbconvert_exporter": "python",
   "pygments_lexer": "ipython3",
   "version": "3.7.0"
  }
 },
 "nbformat": 4,
 "nbformat_minor": 2
}
