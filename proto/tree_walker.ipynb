{
 "cells": [
  {
   "cell_type": "markdown",
   "metadata": {},
   "source": [
    "# Example of Verilog file processing"
   ]
  },
  {
   "cell_type": "markdown",
   "metadata": {},
   "source": [
    "Configure the path to the Pyverilog directory"
   ]
  },
  {
   "cell_type": "code",
   "execution_count": 1,
   "metadata": {},
   "outputs": [],
   "source": [
    "%config IPCompleter.greedy=True"
   ]
  },
  {
   "cell_type": "code",
   "execution_count": 2,
   "metadata": {},
   "outputs": [],
   "source": [
    "import sys\n",
    "pyverilog_path = \"/work/Pyverilog\"\n",
    "sys.path.insert(0, pyverilog_path)"
   ]
  },
  {
   "cell_type": "code",
   "execution_count": 3,
   "metadata": {},
   "outputs": [],
   "source": [
    "from pyverilog.vparser.parser import VerilogCodeParser\n",
    "from pyverilog.dataflow.modulevisitor import ModuleVisitor\n",
    "from pyverilog.dataflow.signalvisitor import SignalVisitor\n",
    "from pyverilog.dataflow.bindvisitor import BindVisitor\n",
    "from pyverilog.dataflow.optimizer import VerilogDataflowOptimizer\n",
    "from pyverilog.dataflow.subset import VerilogSubset"
   ]
  },
  {
   "cell_type": "code",
   "execution_count": 4,
   "metadata": {},
   "outputs": [
    {
     "name": "stdout",
     "output_type": "stream",
     "text": [
      "module TOP(CLK, RST_X);\r\n",
      "  input CLK;\r\n",
      "  input RST_X;\r\n",
      "  reg [3:0] cnt;\r\n",
      "\r\n",
      "  always @(posedge CLK or negedge RST_X) begin\r\n",
      "    if(!RST_X) begin\r\n",
      "      cnt <= 0;\r\n",
      "    end else begin\r\n",
      "      cnt <= cnt + 1;\r\n",
      "    end\r\n",
      "  end\r\n",
      "  \r\n",
      "endmodule\r\n"
     ]
    }
   ],
   "source": [
    "verilog_file_path = \"/work/Pyverilog/verilogcode/count.v\"\n",
    "%cat /work/Pyverilog/verilogcode/count.v"
   ]
  },
  {
   "cell_type": "code",
   "execution_count": 5,
   "metadata": {},
   "outputs": [],
   "source": [
    "parser=VerilogCodeParser([verilog_file_path])\n",
    "ast = parser.parse()"
   ]
  },
  {
   "cell_type": "code",
   "execution_count": 6,
   "metadata": {},
   "outputs": [],
   "source": [
    "module_visitor = ModuleVisitor()\n",
    "module_visitor.visit(ast)\n",
    "moduleinfotable = module_visitor.get_moduleinfotable()"
   ]
  },
  {
   "cell_type": "code",
   "execution_count": 7,
   "metadata": {},
   "outputs": [],
   "source": [
    "signal_visitor = SignalVisitor(moduleinfotable, \"TOP\")\n",
    "signal_visitor.start_visit()\n",
    "frametable = signal_visitor.getFrameTable()"
   ]
  },
  {
   "cell_type": "code",
   "execution_count": 8,
   "metadata": {},
   "outputs": [],
   "source": [
    "bind_visitor = BindVisitor(moduleinfotable, \"TOP\", frametable, noreorder=False)\n",
    "bind_visitor.start_visit()\n",
    "dataflow = bind_visitor.getDataflows()"
   ]
  },
  {
   "cell_type": "code",
   "execution_count": 35,
   "metadata": {},
   "outputs": [
    {
     "name": "stdout",
     "output_type": "stream",
     "text": [
      "(Bind dest:TOP.cnt tree:(Branch Cond:(Operator Ulnot Next:(Terminal TOP.RST_X)) True:(IntConst 0) False:(Operator Plus Next:(Terminal TOP.cnt),(IntConst 1))))\n",
      "False\n",
      "TOP_cnt\n"
     ]
    }
   ],
   "source": [
    "binddict=dataflow.getBinddict()\n",
    "for key in binddict.keys():\n",
    "    for b in binddict[key]:\n",
    "        print(b.tostr())\n",
    "        print(b.isCombination())\n",
    "        print(b.getdest())"
   ]
  },
  {
   "cell_type": "code",
   "execution_count": 36,
   "metadata": {},
   "outputs": [],
   "source": [
    "optimizer = VerilogDataflowOptimizer(dataflow.getTerms(),  dataflow.getBinddict())\n",
    "optimizer.resolveConstant()"
   ]
  },
  {
   "cell_type": "code",
   "execution_count": 37,
   "metadata": {},
   "outputs": [],
   "source": [
    "resolved_terms = optimizer.getResolvedTerms()\n",
    "resolved_binddict = optimizer.getResolvedBinddict()\n",
    "constlist = optimizer.getConstlist()"
   ]
  },
  {
   "cell_type": "code",
   "execution_count": 38,
   "metadata": {},
   "outputs": [
    {
     "name": "stdout",
     "output_type": "stream",
     "text": [
      "(Bind dest:TOP.cnt tree:(Branch Cond:(Operator Ulnot Next:(Terminal TOP.RST_X)) True:(IntConst 0) False:(Operator Plus Next:(Terminal TOP.cnt),(IntConst 1))))\n",
      "False\n",
      "TOP_cnt\n"
     ]
    }
   ],
   "source": [
    "for key in resolved_binddict.keys():\n",
    "    for b in binddict[key]:\n",
    "        print(b.tostr())\n",
    "        print(b.isCombination())\n",
    "        print(b.getdest())"
   ]
  }
 ],
 "metadata": {
  "kernelspec": {
   "display_name": "Python 3",
   "language": "python",
   "name": "python3"
  },
  "language_info": {
   "codemirror_mode": {
    "name": "ipython",
    "version": 3
   },
   "file_extension": ".py",
   "mimetype": "text/x-python",
   "name": "python",
   "nbconvert_exporter": "python",
   "pygments_lexer": "ipython3",
   "version": "3.7.0"
  }
 },
 "nbformat": 4,
 "nbformat_minor": 2
}
