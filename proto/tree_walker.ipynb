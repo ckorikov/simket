{
 "cells": [
  {
   "cell_type": "markdown",
   "metadata": {},
   "source": [
    "# Example of Verilog file processing"
   ]
  },
  {
   "cell_type": "markdown",
   "metadata": {},
   "source": [
    "Configure the path to the Pyverilog directory"
   ]
  },
  {
   "cell_type": "code",
   "execution_count": 1,
   "metadata": {},
   "outputs": [],
   "source": [
    "%config IPCompleter.greedy=True"
   ]
  },
  {
   "cell_type": "code",
   "execution_count": 2,
   "metadata": {},
   "outputs": [],
   "source": [
    "import sys\n",
    "pyverilog_path = \"/work/Pyverilog\"\n",
    "sys.path.insert(0, pyverilog_path)"
   ]
  },
  {
   "cell_type": "code",
   "execution_count": 76,
   "metadata": {},
   "outputs": [],
   "source": [
    "from pyverilog.vparser.parser import VerilogCodeParser\n",
    "from pyverilog.dataflow.modulevisitor import ModuleVisitor\n",
    "from pyverilog.dataflow.signalvisitor import SignalVisitor\n",
    "from pyverilog.dataflow.bindvisitor import BindVisitor\n",
    "from pyverilog.dataflow.optimizer import VerilogDataflowOptimizer\n",
    "from pyverilog.dataflow.subset import VerilogSubset"
   ]
  },
  {
   "cell_type": "code",
   "execution_count": 4,
   "metadata": {},
   "outputs": [
    {
     "name": "stdout",
     "output_type": "stream",
     "text": [
      "module TOP(CLK, RST_X);\r\n",
      "  input CLK;\r\n",
      "  input RST_X;\r\n",
      "  reg [3:0] cnt;\r\n",
      "\r\n",
      "  always @(posedge CLK or negedge RST_X) begin\r\n",
      "    if(!RST_X) begin\r\n",
      "      cnt <= 0;\r\n",
      "    end else begin\r\n",
      "      cnt <= cnt + 1;\r\n",
      "    end\r\n",
      "  end\r\n",
      "  \r\n",
      "endmodule\r\n"
     ]
    }
   ],
   "source": [
    "verilog_file_path = \"/work/Pyverilog/verilogcode/count.v\"\n",
    "%cat /work/Pyverilog/verilogcode/count.v"
   ]
  },
  {
   "cell_type": "code",
   "execution_count": 15,
   "metadata": {},
   "outputs": [],
   "source": [
    "parser=VerilogCodeParser([verilog_file_path])\n",
    "ast = parser.parse()"
   ]
  },
  {
   "cell_type": "code",
   "execution_count": 25,
   "metadata": {},
   "outputs": [],
   "source": [
    "module_visitor = ModuleVisitor()\n",
    "module_visitor.visit(ast)\n",
    "moduleinfotable = module_visitor.get_moduleinfotable()"
   ]
  },
  {
   "cell_type": "code",
   "execution_count": 32,
   "metadata": {},
   "outputs": [],
   "source": [
    "signal_visitor = SignalVisitor(moduleinfotable, \"TOP\")\n",
    "signal_visitor.start_visit()\n",
    "frametable = signal_visitor.getFrameTable()"
   ]
  },
  {
   "cell_type": "code",
   "execution_count": 45,
   "metadata": {},
   "outputs": [],
   "source": [
    "bind_visitor = BindVisitor(moduleinfotable, \"TOP\", frametable, noreorder=False)\n",
    "bind_visitor.start_visit()\n",
    "dataflow = bind_visitor.getDataflows()"
   ]
  },
  {
   "cell_type": "code",
   "execution_count": 47,
   "metadata": {},
   "outputs": [
    {
     "data": {
      "text/plain": [
       "{TOP.CLK: TOP.CLK, TOP.RST_X: TOP.RST_X, TOP.cnt: TOP.cnt}"
      ]
     },
     "execution_count": 47,
     "metadata": {},
     "output_type": "execute_result"
    }
   ],
   "source": [
    "dataflow.getTerms()"
   ]
  },
  {
   "cell_type": "code",
   "execution_count": 49,
   "metadata": {},
   "outputs": [],
   "source": [
    "bd = dataflow.getBinddict()"
   ]
  },
  {
   "cell_type": "code",
   "execution_count": 61,
   "metadata": {},
   "outputs": [
    {
     "name": "stdout",
     "output_type": "stream",
     "text": [
      "(Bind dest:TOP.cnt tree:(Branch Cond:(Operator Ulnot Next:(Terminal TOP.RST_X)) True:(IntConst 0) False:(Operator Plus Next:(Terminal TOP.cnt),(IntConst 1))))\n"
     ]
    }
   ],
   "source": [
    "for bk, bv in sorted(bd.items(), key=lambda x:str(x[0])):\n",
    "    for bvi in bv:\n",
    "        print(bvi.tostr())"
   ]
  },
  {
   "cell_type": "code",
   "execution_count": 56,
   "metadata": {},
   "outputs": [
    {
     "data": {
      "text/plain": [
       "{TOP.cnt: [<pyverilog.dataflow.dataflow.Bind at 0x7f61dd222cf8>]}"
      ]
     },
     "execution_count": 56,
     "metadata": {},
     "output_type": "execute_result"
    }
   ],
   "source": [
    "bd"
   ]
  },
  {
   "cell_type": "code",
   "execution_count": 68,
   "metadata": {},
   "outputs": [],
   "source": [
    "optimizer = VerilogDataflowOptimizer(dataflow.getTerms(),  dataflow.getBinddict())\n",
    "optimizer.resolveConstant()"
   ]
  },
  {
   "cell_type": "code",
   "execution_count": 74,
   "metadata": {},
   "outputs": [],
   "source": [
    "resolved_terms = optimizer.getResolvedTerms()\n",
    "resolved_binddict = optimizer.getResolvedBinddict()\n",
    "constlist = optimizer.getConstlist()"
   ]
  },
  {
   "cell_type": "code",
   "execution_count": 77,
   "metadata": {},
   "outputs": [],
   "source": [
    "subset = VerilogSubset(\"TOP\", dataflow.getTerms(), dataflow.getBinddict(), resolved_terms, resolved_binddict, constlist)"
   ]
  },
  {
   "cell_type": "code",
   "execution_count": 102,
   "metadata": {
    "scrolled": true
   },
   "outputs": [
    {
     "data": {
      "text/plain": [
       "({TOP.cnt: [<pyverilog.dataflow.dataflow.Bind at 0x7f61dd222cf8>]},\n",
       " {TOP.RST_X, TOP.cnt})"
      ]
     },
     "execution_count": 102,
     "metadata": {},
     "output_type": "execute_result"
    }
   ],
   "source": [
    "subset.getBindSourceSubset([\"TOP.cnt\"])"
   ]
  },
  {
   "cell_type": "code",
   "execution_count": 112,
   "metadata": {},
   "outputs": [
    {
     "name": "stdout",
     "output_type": "stream",
     "text": [
      "clockedge\n",
      "<pyverilog.dataflow.dataflow.Bind object at 0x7f61dd222cf8>\n"
     ]
    }
   ],
   "source": [
    "for left, rights in subset.getBindSourceSubset([\"TOP.cnt\"])[0].items():\n",
    "    for right in rights:\n",
    "        assign_type = subset.getAssignType(left, right)\n",
    "        print(assign_type)\n",
    "        print(right)"
   ]
  },
  {
   "cell_type": "code",
   "execution_count": 106,
   "metadata": {},
   "outputs": [
    {
     "data": {
      "text/plain": [
       "dict_items([(TOP.cnt, [<pyverilog.dataflow.dataflow.Bind object at 0x7f61dd222cf8>])])"
      ]
     },
     "execution_count": 106,
     "metadata": {},
     "output_type": "execute_result"
    }
   ],
   "source": [
    "subset.getBindSourceSubset([\"TOP.cnt\"])[0].items()"
   ]
  },
  {
   "cell_type": "code",
   "execution_count": 119,
   "metadata": {},
   "outputs": [
    {
     "ename": "TypeError",
     "evalue": "visit_Always() missing 1 required positional argument: 'node'",
     "output_type": "error",
     "traceback": [
      "\u001b[0;31m---------------------------------------------------------------------------\u001b[0m",
      "\u001b[0;31mTypeError\u001b[0m                                 Traceback (most recent call last)",
      "\u001b[0;32m<ipython-input-119-e984383a4980>\u001b[0m in \u001b[0;36m<module>\u001b[0;34m\u001b[0m\n\u001b[0;32m----> 1\u001b[0;31m \u001b[0mbind_visitor\u001b[0m\u001b[0;34m.\u001b[0m\u001b[0mvisit_Always\u001b[0m\u001b[0;34m(\u001b[0m\u001b[0;34m)\u001b[0m\u001b[0;34m\u001b[0m\u001b[0m\n\u001b[0m",
      "\u001b[0;31mTypeError\u001b[0m: visit_Always() missing 1 required positional argument: 'node'"
     ]
    }
   ],
   "source": [
    "bind_visitor.visit_Always()"
   ]
  },
  {
   "cell_type": "code",
   "execution_count": null,
   "metadata": {},
   "outputs": [],
   "source": []
  }
 ],
 "metadata": {
  "kernelspec": {
   "display_name": "Python 3",
   "language": "python",
   "name": "python3"
  },
  "language_info": {
   "codemirror_mode": {
    "name": "ipython",
    "version": 3
   },
   "file_extension": ".py",
   "mimetype": "text/x-python",
   "name": "python",
   "nbconvert_exporter": "python",
   "pygments_lexer": "ipython3",
   "version": "3.7.0"
  }
 },
 "nbformat": 4,
 "nbformat_minor": 2
}
